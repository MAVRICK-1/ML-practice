{
  "nbformat": 4,
  "nbformat_minor": 0,
  "metadata": {
    "colab": {
      "provenance": [],
      "toc_visible": true,
      "authorship_tag": "ABX9TyOiN+DG+DTazXmA2kxQ8Spv",
      "include_colab_link": true
    },
    "kernelspec": {
      "name": "python3",
      "display_name": "Python 3"
    },
    "language_info": {
      "name": "python"
    }
  },
  "cells": [
    {
      "cell_type": "markdown",
      "metadata": {
        "id": "view-in-github",
        "colab_type": "text"
      },
      "source": [
        "<a href=\"https://colab.research.google.com/github/MAVRICK-1/ML-pracyice-/blob/master/api_test.ipynb\" target=\"_parent\"><img src=\"https://colab.research.google.com/assets/colab-badge.svg\" alt=\"Open In Colab\"/></a>"
      ]
    },
    {
      "cell_type": "code",
      "source": [
        "import pandas as pd\n",
        "import requests as req"
      ],
      "metadata": {
        "id": "nHLl3L1MJHgL"
      },
      "execution_count": 2,
      "outputs": []
    },
    {
      "cell_type": "markdown",
      "source": [
        "# Fetch files"
      ],
      "metadata": {
        "id": "_tZecjq9M-Vc"
      }
    },
    {
      "cell_type": "code",
      "source": [
        "data = req.get(\"https://www.omdbapi.com/?i=tt0944947&Season=1&apikey=bdd6ec2b\")\n",
        "data\n",
        "if data.status_code == 200:\n",
        "    print(\"Success\")"
      ],
      "metadata": {
        "colab": {
          "base_uri": "https://localhost:8080/"
        },
        "id": "Fzl0w66GNAce",
        "outputId": "cec41dfc-e0ea-4ec0-b8ec-79a5d6c148b8"
      },
      "execution_count": 10,
      "outputs": [
        {
          "output_type": "stream",
          "name": "stdout",
          "text": [
            "Success\n"
          ]
        }
      ]
    },
    {
      "cell_type": "code",
      "source": [
        "df = pd.DataFrame()\n",
        "i=1\n",
        "\n",
        "while True:\n",
        "    temp_data = req.get(f\"https://www.omdbapi.com/?i=tt0944947&Season={i}&apikey=bdd6ec2b\")\n",
        "    if temp_data.status_code == 200:\n",
        "        temp_json = temp_data.json()\n",
        "\n",
        "        # Check if \"Episodes\" key exists in the response\n",
        "        if \"Episodes\" in temp_json:\n",
        "            temp_df = pd.DataFrame(temp_json[\"Episodes\"])\n",
        "            i += 1\n",
        "\n",
        "            # Concatenate the new DataFrame\n",
        "            df = pd.concat([df, temp_df], ignore_index=True)\n",
        "        else:\n",
        "            # Break if \"Episodes\" key is missing (likely no more seasons)\n",
        "            break\n",
        "    else:\n",
        "        # Break on HTTP error\n",
        "        break\n",
        "\n"
      ],
      "metadata": {
        "colab": {
          "base_uri": "https://localhost:8080/"
        },
        "id": "qtlNOUQZNUB1",
        "outputId": "78e0a37e-acbc-4612-963d-82883fa569a9"
      },
      "execution_count": 23,
      "outputs": [
        {
          "output_type": "stream",
          "name": "stdout",
          "text": [
            "                                    Title    Released Episode imdbRating  \\\n",
            "0                  Unaired Original Pilot         N/A       0        N/A   \n",
            "1                        Winter Is Coming  2011-04-17       1        8.9   \n",
            "2                           The Kingsroad  2011-04-24       2        8.6   \n",
            "3                               Lord Snow  2011-05-01       3        8.5   \n",
            "4   Cripples, Bastards, and Broken Things  2011-05-08       4        8.6   \n",
            "..                                    ...         ...     ...        ...   \n",
            "69         A Knight of the Seven Kingdoms  2019-04-21       2        7.9   \n",
            "70                         The Long Night  2019-04-28       3        7.5   \n",
            "71                 The Last of the Starks  2019-05-05       4        5.5   \n",
            "72                              The Bells  2019-05-12       5        5.9   \n",
            "73                        The Iron Throne  2019-05-19       6        4.0   \n",
            "\n",
            "        imdbID  \n",
            "0   tt31321401  \n",
            "1    tt1480055  \n",
            "2    tt1668746  \n",
            "3    tt1829962  \n",
            "4    tt1829963  \n",
            "..         ...  \n",
            "69   tt6027908  \n",
            "70   tt6027912  \n",
            "71   tt6027914  \n",
            "72   tt6027916  \n",
            "73   tt6027920  \n",
            "\n",
            "[74 rows x 5 columns]\n"
          ]
        }
      ]
    },
    {
      "cell_type": "markdown",
      "source": [
        "The error in your code lies in how the response data from the OMDB API (`temp_data.json()`) is being processed into a DataFrame. The `temp_data.json()` response is likely a nested dictionary, and passing it directly to `pd.DataFrame` can lead to unexpected results or errors.\n",
        "\n",
        "Here’s a detailed breakdown of the issues and the corrections:\n",
        "\n",
        "### Issue 1: Incorrect handling of JSON data\n",
        "The OMDB API response for a season request likely contains keys like `Season`, `Episodes`, etc., where `Episodes` is a list of dictionaries. When you try to create a DataFrame with `temp_data.json()`, it might not directly map to the expected tabular format.\n",
        "\n",
        "### Solution:\n",
        "You need to extract the relevant part of the JSON (`Episodes`) before creating the DataFrame.\n",
        "\n",
        "### Corrected Code:\n",
        "```python\n",
        "import pandas as pd\n",
        "import requests as req\n",
        "\n",
        "df = pd.DataFrame()\n",
        "i = 1\n",
        "\n",
        "while True:\n",
        "    temp_data = req.get(f\"https://www.omdbapi.com/?i=tt0944947&Season={i}&apikey=bdd6ec2b\")\n",
        "    if temp_data.status_code == 200:\n",
        "        temp_json = temp_data.json()\n",
        "        \n",
        "        # Check if \"Episodes\" key exists in the response\n",
        "        if \"Episodes\" in temp_json:\n",
        "            temp_df = pd.DataFrame(temp_json[\"Episodes\"])\n",
        "            i += 1\n",
        "            \n",
        "            # Concatenate the new DataFrame\n",
        "            df = pd.concat([df, temp_df], ignore_index=True)\n",
        "        else:\n",
        "            # Break if \"Episodes\" key is missing (likely no more seasons)\n",
        "            break\n",
        "    else:\n",
        "        # Break on HTTP error\n",
        "        break\n",
        "\n",
        "# Final DataFrame\n",
        "print(df)\n",
        "```\n",
        "\n",
        "### Key Changes:\n",
        "1. **Extract `Episodes`:** Used `temp_json[\"Episodes\"]` to isolate the list of episodes, which can be converted into a DataFrame.\n",
        "2. **Check for Missing Data:** Included a check for the presence of the `Episodes` key to handle cases where the season data might not be available.\n",
        "3. **Avoid Infinite Loop:** Break out of the loop when no more seasons are available.\n",
        "\n",
        "### Testing the Code:\n",
        "Ensure the API key (`bdd6ec2b`) is valid and has sufficient quota. If the problem persists, check the API documentation to confirm the structure of the response for `Season` queries."
      ],
      "metadata": {
        "id": "gqEv1rQ7UYq0"
      }
    },
    {
      "cell_type": "code",
      "source": [
        "df.info()"
      ],
      "metadata": {
        "colab": {
          "base_uri": "https://localhost:8080/"
        },
        "id": "4UQHiVLXUbyu",
        "outputId": "28229957-d8b4-457f-8e3d-9b648d1ba4ae"
      },
      "execution_count": 26,
      "outputs": [
        {
          "output_type": "stream",
          "name": "stdout",
          "text": [
            "<class 'pandas.core.frame.DataFrame'>\n",
            "RangeIndex: 74 entries, 0 to 73\n",
            "Data columns (total 5 columns):\n",
            " #   Column      Non-Null Count  Dtype \n",
            "---  ------      --------------  ----- \n",
            " 0   Title       74 non-null     object\n",
            " 1   Released    74 non-null     object\n",
            " 2   Episode     74 non-null     object\n",
            " 3   imdbRating  74 non-null     object\n",
            " 4   imdbID      74 non-null     object\n",
            "dtypes: object(5)\n",
            "memory usage: 3.0+ KB\n"
          ]
        }
      ]
    },
    {
      "cell_type": "code",
      "source": [
        "# prompt: out put to csv\n",
        "\n",
        "df.to_csv('output.csv', index=False)"
      ],
      "metadata": {
        "id": "LBxSmN0bU9TD"
      },
      "execution_count": 27,
      "outputs": []
    }
  ]
}