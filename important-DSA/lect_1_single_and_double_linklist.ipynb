{
 "cells": [
  {
   "cell_type": "code",
   "execution_count": 40,
   "metadata": {},
   "outputs": [],
   "source": [
    "class single_link_list :\n",
    "    def __init__(self, data,next=None):\n",
    "        self.data=data\n",
    "        self.next = next\n",
    "    def __str__(self):  # the purose of __str__ is to return a string representation of the object example print(obj) will return the string representation of the object\n",
    "        return str(self.data)  # this will return the data of the object expample print(obj) will return the data of the object  \n",
    "    # always will return string "
   ]
  },
  {
   "cell_type": "code",
   "execution_count": 41,
   "metadata": {},
   "outputs": [],
   "source": [
    "head = single_link_list(2)\n",
    "node1 = single_link_list(4)\n",
    "node2 = single_link_list(6)\n",
    "node3 = single_link_list(6)\n",
    "\n",
    "head.next=node1\n",
    "node1.next= node2\n",
    "node2.next = node3"
   ]
  },
  {
   "cell_type": "code",
   "execution_count": 42,
   "metadata": {},
   "outputs": [
    {
     "name": "stdout",
     "output_type": "stream",
     "text": [
      "2\n"
     ]
    }
   ],
   "source": [
    "print(head)\n",
    "# __str__ will print the object when it is entered in print"
   ]
  },
  {
   "cell_type": "code",
   "execution_count": 43,
   "metadata": {},
   "outputs": [
    {
     "name": "stdout",
     "output_type": "stream",
     "text": [
      "2->4->6->6\n"
     ]
    }
   ],
   "source": [
    "def transverse (head):\n",
    "    curr = head   # why we are using curr = head because we want to start from the head and we want to transverse the whole list , \n",
    "    #if we use head directly then we will lose the head . why ? because we are using head.next in the while loop so we will lose the head\n",
    "    elements =[]\n",
    "    while curr:\n",
    "        elements.append(str(curr.data))\n",
    "        curr = curr.next\n",
    "    print('->'.join(elements))\n",
    "\n",
    "transverse(head)\n"
   ]
  },
  {
   "cell_type": "code",
   "execution_count": 44,
   "metadata": {},
   "outputs": [],
   "source": [
    "# Double linked list python \n",
    "\n",
    "class DoubleLinklist:\n",
    "    def __init__(self,data, prev=None, next=None):\n",
    "        self.data = data\n",
    "        self.prev = prev\n",
    "        self.next = next\n",
    "    \n",
    "    def __str__ (self) :\n",
    "        return str(self.data)\n"
   ]
  },
  {
   "cell_type": "code",
   "execution_count": 45,
   "metadata": {},
   "outputs": [
    {
     "name": "stdout",
     "output_type": "stream",
     "text": [
      "8\n"
     ]
    }
   ],
   "source": [
    "head = tail = DoubleLinklist(8)\n",
    "print(tail)"
   ]
  },
  {
   "cell_type": "code",
   "execution_count": 46,
   "metadata": {},
   "outputs": [
    {
     "name": "stdout",
     "output_type": "stream",
     "text": [
      "8\n"
     ]
    }
   ],
   "source": [
    "def display(head):\n",
    "    curr = head\n",
    "    elements = []\n",
    "\n",
    "    while curr:\n",
    "        elements.append(str(curr.data))\n",
    "        curr = curr.next\n",
    "    print('<->'.join(elements))\n",
    "display(head)"
   ]
  },
  {
   "cell_type": "code",
   "execution_count": 49,
   "metadata": {},
   "outputs": [
    {
     "name": "stdout",
     "output_type": "stream",
     "text": [
      "8<->7<->8\n"
     ]
    }
   ],
   "source": [
    "def add_at_begining(head,tail,data):\n",
    "    new_node = DoubleLinklist(data=data,next=head)\n",
    "    head.prev = new_node\n",
    "    return new_node\n",
    "\n",
    "\n",
    "head = add_at_begining(head,tail,7)\n",
    "head = add_at_begining(head,tail,8)\n",
    "\n",
    "\n",
    "display(head)"
   ]
  },
  {
   "cell_type": "code",
   "execution_count": 52,
   "metadata": {},
   "outputs": [
    {
     "name": "stdout",
     "output_type": "stream",
     "text": [
      "8<->7<->8<->9<->7<->2\n"
     ]
    }
   ],
   "source": [
    "def add_at_the_end(head,tail,data):\n",
    "    new_node = DoubleLinklist(data)\n",
    "    tail.next=new_node\n",
    "\n",
    "    return head,new_node\n",
    "\n",
    "head,tail =add_at_the_end(head,tail,9)\n",
    "head,tail =add_at_the_end(head,tail,7)\n",
    "head,tail =add_at_the_end(head,tail,2)\n",
    "\n",
    "display(head)\n"
   ]
  },
  {
   "cell_type": "code",
   "execution_count": 2,
   "metadata": {},
   "outputs": [],
   "source": [
    "a = set()\n",
    "a.add(8)\n"
   ]
  },
  {
   "cell_type": "code",
   "execution_count": 6,
   "metadata": {},
   "outputs": [
    {
     "name": "stdout",
     "output_type": "stream",
     "text": [
      "{8, 9}\n"
     ]
    }
   ],
   "source": [
    "print(a)\n",
    "a.add(8)\n",
    "a.add(8)"
   ]
  },
  {
   "cell_type": "code",
   "execution_count": 10,
   "metadata": {},
   "outputs": [
    {
     "name": "stdout",
     "output_type": "stream",
     "text": [
      "0 j\n",
      "1 i\n"
     ]
    }
   ],
   "source": [
    "for index, i in enumerate(\"ji\"):\n",
    "    print(index,i)"
   ]
  },
  {
   "cell_type": "code",
   "execution_count": null,
   "metadata": {},
   "outputs": [],
   "source": []
  }
 ],
 "metadata": {
  "kernelspec": {
   "display_name": "base",
   "language": "python",
   "name": "python3"
  },
  "language_info": {
   "codemirror_mode": {
    "name": "ipython",
    "version": 3
   },
   "file_extension": ".py",
   "mimetype": "text/x-python",
   "name": "python",
   "nbconvert_exporter": "python",
   "pygments_lexer": "ipython3",
   "version": "3.12.2"
  }
 },
 "nbformat": 4,
 "nbformat_minor": 2
}
