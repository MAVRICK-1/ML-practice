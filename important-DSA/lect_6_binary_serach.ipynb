{
 "cells": [
  {
   "cell_type": "markdown",
   "metadata": {},
   "source": [
    "You can use binary search to solve this problem efficiently in \\(O(\\log n)\\) runtime complexity. Here's a Python solution using a simple binary search:\n",
    "\n",
    "```python\n",
    "def search_insert(nums, target):\n",
    "    left, right = 0, len(nums) - 1\n",
    "    \n",
    "    while left <= right:\n",
    "        mid = (left + right) // 2\n",
    "        if nums[mid] == target:\n",
    "            return mid  # Target found\n",
    "        elif nums[mid] < target:\n",
    "            left = mid + 1  # Search in the right half\n",
    "        else:\n",
    "            right = mid - 1  # Search in the left half\n",
    "    \n",
    "    # If target is not found, `left` is the insertion point\n",
    "    return left\n",
    "\n",
    "# Examples\n",
    "print(search_insert([1, 3, 5, 6], 5))  # Output: 2\n",
    "print(search_insert([1, 3, 5, 6], 2))  # Output: 1\n",
    "print(search_insert([1, 3, 5, 6], 7))  # Output: 4\n",
    "```\n",
    "\n",
    "### Explanation\n",
    "1. **Binary Search**: The `while` loop ensures we halve the search space on each iteration by comparing the middle element with the target.\n",
    "2. **Insertion Point**: If the target is not found, the `left` pointer ends up at the correct position where the target should be inserted.\n",
    "3. **Edge Cases**: The algorithm handles edge cases like inserting at the beginning, in the middle, or at the end of the array.\n",
    "\n",
    "This is the most efficient and straightforward way to achieve \\(O(\\log n)\\) runtime."
   ]
  },
  {
   "cell_type": "markdown",
   "metadata": {},
   "source": []
  }
 ],
 "metadata": {
  "language_info": {
   "name": "python"
  }
 },
 "nbformat": 4,
 "nbformat_minor": 2
}
