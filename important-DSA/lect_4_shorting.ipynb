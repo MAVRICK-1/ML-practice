{
 "cells": [
  {
   "cell_type": "code",
   "execution_count": 2,
   "metadata": {},
   "outputs": [
    {
     "data": {
      "text/plain": [
       "[1, 2, 7, 9]"
      ]
     },
     "execution_count": 2,
     "metadata": {},
     "output_type": "execute_result"
    }
   ],
   "source": [
    "l = [1,2,7,9]\n",
    "\n",
    "l.sort()\n",
    "l"
   ]
  },
  {
   "cell_type": "code",
   "execution_count": 3,
   "metadata": {},
   "outputs": [
    {
     "data": {
      "text/plain": [
       "4"
      ]
     },
     "execution_count": 3,
     "metadata": {},
     "output_type": "execute_result"
    }
   ],
   "source": [
    "len(l)"
   ]
  },
  {
   "cell_type": "markdown",
   "metadata": {},
   "source": [
    "🌟 Intuition\n",
    "To maximize the sightseeing pair score, we need to recognize the key components in the formula:\n",
    "\n",
    "score = values[i] + values[j] + i - j\n",
    "\n",
    "We can rearrange this to:\n",
    "\n",
    "score = (values[i] + i) + (values[j] - j)\n",
    "\n",
    "This shows that:\n",
    "\n",
    "The first part, values[i] + i, is the left part of the score.\n",
    "The second part, values[j] - j, is the right part of the score.\n",
    "🧠 Key Insight:\n",
    "We can precompute the right part (values[j] - j) for all j and use this precomputed information when calculating the score for any i. This allows us to maximize the score efficiently without checking every pair.\n",
    "\n",
    "🚀 Approach\n",
    "1. Suffix Array 📊:\n",
    "To efficiently track the maximum of values[j] - j for all possible j > i, we use a suffix array:\n",
    "\n",
    "This array holds the maximum value of values[j] - j for each index j starting from the end of the array.\n",
    "2. Iterate and Calculate 🔄:\n",
    "For each index i, calculate the score using the precomputed values from the suffix array:\n",
    "\n",
    "For each i, the score is the sum of values[i] + i (the left part) and suffixMax[i + 1] (the right part).\n",
    "By combining these two parts, we can find the maximum score for the sightseeing pair.\n",
    "\n",
    "3. Edge Cases ⚠️:\n",
    "Handle cases with fewer than 2 elements by returning the score directly for the pair (values[0], values[1]).\n",
    "\n",
    "🧠 Complexity\n",
    "Time Complexity ⏱️:\n",
    "O(n): We make two passes through the array:\n",
    "One pass to compute the suffixMax array.\n",
    "Another pass to calculate the maximum score.\n",
    "Space Complexity 💾:\n",
    "O(n): We store the suffixMax array to keep track of the maximum values of values[j] - j.\n",
    "Screenshot 2024-12-27 073048.png\n",
    "💻 Code\n",
    "```python\n",
    "class Solution:\n",
    "    def maxScoreSightseeingPair(self, values: List[int]) -> int:\n",
    "        n = len(values)\n",
    "        suffixMax = [0] * n\n",
    "        suffixMax[n - 1] = values[n - 1] - (n - 1)\n",
    "\n",
    "        for i in range(n - 2, -1, -1):\n",
    "            suffixMax[i] = max(suffixMax[i + 1], values[i] - i)\n",
    "\n",
    "        maxScore = float('-inf')\n",
    "\n",
    "        for i in range(n - 1):\n",
    "            maxScore = max(maxScore, values[i] + i + suffixMax[i + 1])\n",
    "\n",
    "        return maxScore"
   ]
  },
  {
   "cell_type": "markdown",
   "metadata": {},
   "source": [
    "link : https://leetcode.com/problems/best-sightseeing-pair/solutions/6191106/only-suffix-array-o-n-100-beats"
   ]
  },
  {
   "cell_type": "markdown",
   "metadata": {},
   "source": []
  }
 ],
 "metadata": {
  "kernelspec": {
   "display_name": "base",
   "language": "python",
   "name": "python3"
  },
  "language_info": {
   "codemirror_mode": {
    "name": "ipython",
    "version": 3
   },
   "file_extension": ".py",
   "mimetype": "text/x-python",
   "name": "python",
   "nbconvert_exporter": "python",
   "pygments_lexer": "ipython3",
   "version": "3.12.2"
  }
 },
 "nbformat": 4,
 "nbformat_minor": 2
}
